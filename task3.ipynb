{
 "cells": [
  {
   "cell_type": "markdown",
   "metadata": {},
   "source": [
    "# Pythonic set and operations\n",
    "\n",
    "Reference notebook for the third task of the *Python Tricks and Hacks for Productivity* course on Coursera.\n",
    "\n",
    "**Instructor**: *Danilo Lessa Bernardineli (danilo.bernardineli@usp.br)*"
   ]
  },
  {
   "cell_type": "code",
   "execution_count": 1,
   "metadata": {},
   "outputs": [
    {
     "name": "stdout",
     "output_type": "stream",
     "text": [
      "['india', 'bangladesh', 'pakistan', 'brazil', 'egypt']\n"
     ]
    }
   ],
   "source": [
    "available_countries = ['india', 'bangladesh', 'pakistan', 'brazil']\n",
    "\n",
    "forbidden_countries = ['united_states', 'china', 'europe']\n",
    "\n",
    "new_countries = ['egypt', 'china', 'india']\n",
    "\n",
    "updated_countries = available_countries.copy()\n",
    "\n",
    "for country in new_countries:\n",
    "    if country not in available_countries:\n",
    "        if country not in forbidden_countries:\n",
    "            updated_countries.append(country)\n",
    "print(updated_countries)"
   ]
  },
  {
   "cell_type": "code",
   "execution_count": null,
   "metadata": {},
   "outputs": [],
   "source": []
  }
 ],
 "metadata": {
  "kernelspec": {
   "display_name": "Python 3",
   "language": "python",
   "name": "python3"
  },
  "language_info": {
   "codemirror_mode": {
    "name": "ipython",
    "version": 3
   },
   "file_extension": ".py",
   "mimetype": "text/x-python",
   "name": "python",
   "nbconvert_exporter": "python",
   "pygments_lexer": "ipython3",
   "version": "3.7.6"
  }
 },
 "nbformat": 4,
 "nbformat_minor": 4
}
