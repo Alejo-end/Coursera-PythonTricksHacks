{
 "cells": [
  {
   "cell_type": "markdown",
   "metadata": {},
   "source": [
    "# Type hinting\n",
    "\n",
    "Reference notebook for the fourth task of the *Python Tricks and Hacks for Productivity* course on Coursera.\n",
    "\n",
    "**Instructor**: *Danilo Lessa Bernardineli (danilo.bernardineli@usp.br)*"
   ]
  },
  {
   "cell_type": "code",
   "execution_count": 1,
   "metadata": {},
   "outputs": [],
   "source": [
    "def function(param_1, param_2, param_3):\n",
    "    var_1 = param_1 - param_2\n",
    "    var_2 = param_3 & param_2\n",
    "    var_3 = var_2 | var_1\n",
    "    return var_3"
   ]
  },
  {
   "cell_type": "code",
   "execution_count": 11,
   "metadata": {},
   "outputs": [
    {
     "data": {
      "text/plain": [
       "{1, 2, 5}"
      ]
     },
     "execution_count": 11,
     "metadata": {},
     "output_type": "execute_result"
    }
   ],
   "source": [
    "a = {1, 2, 3}\n",
    "b = {3, 4, 5}\n",
    "c = {5, 6, 7}\n",
    "r = function(a, b, c)\n",
    "r"
   ]
  }
 ],
 "metadata": {
  "kernelspec": {
   "display_name": "Python 3",
   "language": "python",
   "name": "python3"
  },
  "language_info": {
   "codemirror_mode": {
    "name": "ipython",
    "version": 3
   },
   "file_extension": ".py",
   "mimetype": "text/x-python",
   "name": "python",
   "nbconvert_exporter": "python",
   "pygments_lexer": "ipython3",
   "version": "3.7.6"
  }
 },
 "nbformat": 4,
 "nbformat_minor": 4
}
