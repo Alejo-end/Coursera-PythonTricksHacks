{
 "cells": [
  {
   "cell_type": "markdown",
   "metadata": {},
   "source": [
    "# Wrangling with zip and starred expressions\n",
    "\n",
    "Reference notebook for the fifth task of the *Python Tricks and Hacks for Productivity* course on Coursera.\n",
    "\n",
    "**Instructor**: *Danilo Lessa Bernardineli (danilo.bernardineli@usp.br)*"
   ]
  },
  {
   "cell_type": "code",
   "execution_count": 2,
   "metadata": {},
   "outputs": [],
   "source": [
    "from typing import NamedTuple\n",
    "\n",
    "class Record(NamedTuple):\n",
    "    name: str\n",
    "    value: float"
   ]
  },
  {
   "cell_type": "code",
   "execution_count": 3,
   "metadata": {},
   "outputs": [
    {
     "name": "stdout",
     "output_type": "stream",
     "text": [
      "[Record(name='Pinchai', value=10), Record(name='Lula', value=13), Record(name='Obama', value=20)]\n"
     ]
    }
   ],
   "source": [
    "names = ['Pinchai', 'Lula', 'Obama']\n",
    "values = [10, 13, 20]\n",
    "\n",
    "records = []\n",
    "for i, name in enumerate(names):\n",
    "    value = values[i]\n",
    "    record = Record(name=name, value=value)\n",
    "    records.append(record)\n",
    "    \n",
    "print(records)"
   ]
  }
 ],
 "metadata": {
  "kernelspec": {
   "display_name": "Python 3",
   "language": "python",
   "name": "python3"
  },
  "language_info": {
   "codemirror_mode": {
    "name": "ipython",
    "version": 3
   },
   "file_extension": ".py",
   "mimetype": "text/x-python",
   "name": "python",
   "nbconvert_exporter": "python",
   "pygments_lexer": "ipython3",
   "version": "3.7.6"
  }
 },
 "nbformat": 4,
 "nbformat_minor": 4
}
