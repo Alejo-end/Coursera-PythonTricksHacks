{
 "cells": [
  {
   "cell_type": "markdown",
   "metadata": {},
   "source": [
    "# Multiprocessing and progress bars\n",
    "\n",
    "Reference notebook for the sixth task of the *Python Tricks and Hacks for Productivity* course on Coursera.\n",
    "\n",
    "**Instructor**: *Danilo Lessa Bernardineli (danilo.bernardineli@usp.br)*"
   ]
  },
  {
   "cell_type": "code",
   "execution_count": 1,
   "metadata": {},
   "outputs": [
    {
     "name": "stdout",
     "output_type": "stream",
     "text": [
      "done!\n"
     ]
    }
   ],
   "source": [
    "N = int(5e6) # this is 5 million\n",
    "a = 3.8\n",
    "\n",
    "def logistic_map(a: float,\n",
    "                 x: float) -> float:\n",
    "    return a * x * (1 - x)\n",
    "\n",
    "x = 0.9\n",
    "for i in range(N):\n",
    "    x = logistic_map(a, x)\n",
    "print(\"done!\")"
   ]
  },
  {
   "cell_type": "code",
   "execution_count": 2,
   "metadata": {},
   "outputs": [
    {
     "data": {
      "application/vnd.jupyter.widget-view+json": {
       "model_id": "f5e654ef5ce64945902db159db079892",
       "version_major": 2,
       "version_minor": 0
      },
      "text/plain": [
       "HBox(children=(FloatProgress(value=0.0, max=5000000.0), HTML(value='')))"
      ]
     },
     "metadata": {},
     "output_type": "display_data"
    },
    {
     "name": "stdout",
     "output_type": "stream",
     "text": [
      "\n",
      "done!\n"
     ]
    }
   ],
   "source": [
    "from tqdm.auto import tqdm\n",
    "\n",
    "N = int(5e6) # this is 5 million\n",
    "a = 3.8\n",
    "\n",
    "def logistic_map(a: float,\n",
    "                 x: float) -> float:\n",
    "    return a * x * (1 - x)\n",
    "\n",
    "x = 0.9\n",
    "for i in tqdm(range(N)):\n",
    "    x = logistic_map(a, x)\n",
    "print(\"done!\")"
   ]
  },
  {
   "cell_type": "code",
   "execution_count": 3,
   "metadata": {},
   "outputs": [
    {
     "data": {
      "application/vnd.jupyter.widget-view+json": {
       "model_id": "4f298524574b4ee996e9ebddea6949a9",
       "version_major": 2,
       "version_minor": 0
      },
      "text/plain": [
       "HBox(children=(FloatProgress(value=0.0, description='Iterating on the logistic map', max=5000000.0, style=Prog…"
      ]
     },
     "metadata": {},
     "output_type": "display_data"
    },
    {
     "name": "stdout",
     "output_type": "stream",
     "text": [
      "\n",
      "done!\n"
     ]
    }
   ],
   "source": [
    "from tqdm.auto import tqdm\n",
    "\n",
    "N = int(5e6) # this is 5 million\n",
    "a = 3.8\n",
    "\n",
    "def logistic_map(a: float,\n",
    "                 x: float) -> float:\n",
    "    return a * x * (1 - x)\n",
    "\n",
    "x = 0.9\n",
    "for i in tqdm(range(N),\n",
    "              desc='Iterating on the logistic map'):\n",
    "    x = logistic_map(a, x)\n",
    "print(\"done!\")"
   ]
  },
  {
   "cell_type": "code",
   "execution_count": 4,
   "metadata": {},
   "outputs": [
    {
     "data": {
      "application/vnd.jupyter.widget-view+json": {
       "model_id": "13dcf40350b5445cb23751d0fddc8c2c",
       "version_major": 2,
       "version_minor": 0
      },
      "text/plain": [
       "HBox(children=(FloatProgress(value=0.0, description='Iterating on the logistic map', max=4.0, style=ProgressSt…"
      ]
     },
     "metadata": {},
     "output_type": "display_data"
    },
    {
     "data": {
      "application/vnd.jupyter.widget-view+json": {
       "model_id": "85ba14a8d97f401b935732f65db1240e",
       "version_major": 2,
       "version_minor": 0
      },
      "text/plain": [
       "HBox(children=(FloatProgress(value=0.0, description='Initial value: 0.2', max=5000000.0, style=ProgressStyle(d…"
      ]
     },
     "metadata": {},
     "output_type": "display_data"
    },
    {
     "name": "stdout",
     "output_type": "stream",
     "text": [
      "\n"
     ]
    },
    {
     "data": {
      "application/vnd.jupyter.widget-view+json": {
       "model_id": "9a042a6d754944538f7099c13c517a36",
       "version_major": 2,
       "version_minor": 0
      },
      "text/plain": [
       "HBox(children=(FloatProgress(value=0.0, description='Initial value: 0.4', max=5000000.0, style=ProgressStyle(d…"
      ]
     },
     "metadata": {},
     "output_type": "display_data"
    },
    {
     "name": "stdout",
     "output_type": "stream",
     "text": [
      "\n"
     ]
    },
    {
     "data": {
      "application/vnd.jupyter.widget-view+json": {
       "model_id": "f1061611a1f5435e8561f5cafa845dd1",
       "version_major": 2,
       "version_minor": 0
      },
      "text/plain": [
       "HBox(children=(FloatProgress(value=0.0, description='Initial value: 0.6', max=5000000.0, style=ProgressStyle(d…"
      ]
     },
     "metadata": {},
     "output_type": "display_data"
    },
    {
     "name": "stdout",
     "output_type": "stream",
     "text": [
      "\n"
     ]
    },
    {
     "data": {
      "application/vnd.jupyter.widget-view+json": {
       "model_id": "520d152b816d4d678f7c946e812b74de",
       "version_major": 2,
       "version_minor": 0
      },
      "text/plain": [
       "HBox(children=(FloatProgress(value=0.0, description='Initial value: 0.8', max=5000000.0, style=ProgressStyle(d…"
      ]
     },
     "metadata": {},
     "output_type": "display_data"
    },
    {
     "name": "stdout",
     "output_type": "stream",
     "text": [
      "\n",
      "\n",
      "done!\n"
     ]
    }
   ],
   "source": [
    "from tqdm.auto import tqdm\n",
    "\n",
    "N = int(5e6) # this is 5 million\n",
    "a = 3.8\n",
    "x_i = [0.2, 0.4, 0.6, 0.8]\n",
    "\n",
    "def logistic_map(a: float,\n",
    "                 x: float) -> float:\n",
    "    return a * x * (1 - x)\n",
    "\n",
    "\n",
    "for x_0 in tqdm(x_i,\n",
    "              desc=f'Iterating on the logistic map'):\n",
    "    x = x_0\n",
    "    for i in tqdm(range(N),\n",
    "                  desc=f'Initial value: {x_0}'):\n",
    "        x = logistic_map(a, x)\n",
    "print(\"done!\")"
   ]
  },
  {
   "cell_type": "code",
   "execution_count": 8,
   "metadata": {},
   "outputs": [
    {
     "data": {
      "application/vnd.jupyter.widget-view+json": {
       "model_id": "b762263ffa84480aae8f16f99813e4d8",
       "version_major": 2,
       "version_minor": 0
      },
      "text/plain": [
       "HBox(children=(FloatProgress(value=0.0, description='Iterating on the logistic map', max=4.0, style=ProgressSt…"
      ]
     },
     "metadata": {},
     "output_type": "display_data"
    },
    {
     "name": "stdout",
     "output_type": "stream",
     "text": [
      "\n",
      "[0.24362478666956935, 0.5904506121259498, 0.7344226939437857, 0.948578349745379, 0.690629079239208, 0.948578349745379, 0.7344226939437857, 0.5198490289233741, 0.24362478666956935, 0.0]\n"
     ]
    }
   ],
   "source": [
    "from tqdm.auto import tqdm\n",
    "from multiprocessing.pool import Pool\n",
    "\n",
    "N = int(5e6) # this is 5 million\n",
    "a = 3.8\n",
    "x_i = [0.2, 0.4, 0.6, 0.8]\n",
    "\n",
    "\n",
    "def logistic_map(a: float,\n",
    "                 x: float) -> float:\n",
    "    return a * x * (1 - x)\n",
    "\n",
    "\n",
    "def logistic_simulation(x_0):\n",
    "    x = x_0\n",
    "    for i in range(N):\n",
    "        x = logistic_map(a, x)\n",
    "    return x\n",
    "\n",
    "\n",
    "for x_0 in tqdm(x_i,\n",
    "              desc=f'Iterating on the logistic map'):\n",
    "    logistic_simulation(x_0)\n",
    "\n",
    "print(output)"
   ]
  },
  {
   "cell_type": "code",
   "execution_count": 5,
   "metadata": {},
   "outputs": [
    {
     "name": "stdout",
     "output_type": "stream",
     "text": [
      "[0.5904506121259498, 0.948578349745379, 0.948578349745379, 0.5198490289233741]\n"
     ]
    }
   ],
   "source": [
    "from tqdm.auto import tqdm\n",
    "from multiprocessing.pool import Pool\n",
    "\n",
    "N = int(5e6) # this is 5 million\n",
    "a = 3.8\n",
    "x_i = [0.2, 0.4, 0.6, 0.8]\n",
    "\n",
    "\n",
    "def logistic_map(a: float,\n",
    "                 x: float) -> float:\n",
    "    return a * x * (1 - x)\n",
    "\n",
    "\n",
    "def logistic_simulation(x_0):\n",
    "    x = x_0\n",
    "    for i in range(N):\n",
    "        x = logistic_map(a, x)\n",
    "    return x\n",
    "\n",
    "\n",
    "with Pool() as p:\n",
    "    output = p.map(logistic_simulation, x_i)\n",
    "\n",
    "print(output)"
   ]
  },
  {
   "cell_type": "code",
   "execution_count": 6,
   "metadata": {},
   "outputs": [
    {
     "data": {
      "application/vnd.jupyter.widget-view+json": {
       "model_id": "1c121b83ade44c3bb6a95e93bb0a0690",
       "version_major": 2,
       "version_minor": 0
      },
      "text/plain": [
       "HBox(children=(FloatProgress(value=0.0, description='Sweeping values', max=10.0, style=ProgressStyle(descripti…"
      ]
     },
     "metadata": {},
     "output_type": "display_data"
    },
    {
     "name": "stdout",
     "output_type": "stream",
     "text": [
      "\n",
      "[0.24362478666956935, 0.5904506121259498, 0.7344226939437857, 0.948578349745379, 0.690629079239208, 0.948578349745379, 0.7344226939437857, 0.5198490289233741, 0.24362478666956935, 0.0]\n"
     ]
    }
   ],
   "source": [
    "from tqdm.auto import tqdm\n",
    "from multiprocessing.pool import Pool\n",
    "\n",
    "N = int(5e6) # this is 5 million\n",
    "a = 3.8\n",
    "x_i = [0.1, 0.2, 0.3, 0.4, 0.5, 0.6, 0.7, 0.8, 0.9, 1.0]\n",
    "\n",
    "\n",
    "def logistic_map(a: float,\n",
    "                 x: float) -> float:\n",
    "    return a * x * (1 - x)\n",
    "\n",
    "\n",
    "def logistic_simulation(x_0):\n",
    "    x = x_0\n",
    "    for i in range(N):\n",
    "        x = logistic_map(a, x)\n",
    "    return x\n",
    "\n",
    "\n",
    "with Pool() as p:\n",
    "    iterator = p.imap(logistic_simulation, x_i)\n",
    "    output = tqdm(iterator, total=len(x_i), desc='Sweeping values')\n",
    "    output = list(output)\n",
    "\n",
    "print(output)"
   ]
  },
  {
   "cell_type": "code",
   "execution_count": null,
   "metadata": {},
   "outputs": [],
   "source": []
  }
 ],
 "metadata": {
  "kernelspec": {
   "display_name": "Python 3",
   "language": "python",
   "name": "python3"
  },
  "language_info": {
   "codemirror_mode": {
    "name": "ipython",
    "version": 3
   },
   "file_extension": ".py",
   "mimetype": "text/x-python",
   "name": "python",
   "nbconvert_exporter": "python",
   "pygments_lexer": "ipython3",
   "version": "3.7.6"
  }
 },
 "nbformat": 4,
 "nbformat_minor": 4
}
